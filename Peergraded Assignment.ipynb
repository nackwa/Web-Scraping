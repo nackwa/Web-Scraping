{
 "cells": [
  {
   "cell_type": "markdown",
   "id": "bbcc4ab4-f6ff-4864-8532-788dd2a02a77",
   "metadata": {},
   "source": [
    "# ***SHORNA THOMPSON- Peer-graded Assignment: Analyzing Historical Stock/Revenue Data and Building a Dashboard*"
   ]
  },
  {
   "cell_type": "code",
   "execution_count": null,
   "id": "07629fd3-7af6-42e5-9628-bb49aa22123b",
   "metadata": {},
   "outputs": [],
   "source": [
    "!pip install yfinance\n",
    "!pip install bs4\n",
    "!pip install nbformat\n",
    "!pip install --upgrade plotly"
   ]
  },
  {
   "cell_type": "code",
   "execution_count": null,
   "id": "278692c1-fd46-4662-b256-204c7f74f193",
   "metadata": {
    "scrolled": true
   },
   "outputs": [],
   "source": [
    "!pip install yfinance"
   ]
  },
  {
   "cell_type": "markdown",
   "id": "aa08d02f-07c9-4fc6-af53-d4369b032603",
   "metadata": {},
   "source": [
    "# **Question 1: Use yfinance to Extract Stock Data**"
   ]
  },
  {
   "cell_type": "code",
   "execution_count": 32,
   "id": "0af0f082-27e0-4007-a956-22d47aaa1fb7",
   "metadata": {},
   "outputs": [],
   "source": [
    "import yfinance as yf\n",
    "import pandas as pd\n",
    "\n"
   ]
  },
  {
   "cell_type": "markdown",
   "id": "f28b905d-57e6-4aaa-8531-f83d56b0a531",
   "metadata": {},
   "source": [
    "### Create a Ticker object for Tesla"
   ]
  },
  {
   "cell_type": "code",
   "execution_count": null,
   "id": "88bdde62-8744-45a6-8b4c-7dd3add01a4b",
   "metadata": {},
   "outputs": [],
   "source": [
    "tesla = yf.Ticker('TSLA')"
   ]
  },
  {
   "cell_type": "markdown",
   "id": "39fb3671-c707-4719-9775-996770701d0c",
   "metadata": {},
   "source": [
    "### Get historical market data"
   ]
  },
  {
   "cell_type": "code",
   "execution_count": 27,
   "id": "20cd4e7f-bffe-44a2-bfc7-f4f51f666902",
   "metadata": {},
   "outputs": [],
   "source": [
    "tesla_data = tesla.history(start='2020-01-01', end='2023-12-31')"
   ]
  },
  {
   "cell_type": "markdown",
   "id": "d3781b65-ce42-434c-921b-a2eb96e2fcc1",
   "metadata": {},
   "source": [
    "### Reset the index"
   ]
  },
  {
   "cell_type": "code",
   "execution_count": null,
   "id": "0073b976-50b6-4aae-97a3-4c208f6932ba",
   "metadata": {},
   "outputs": [],
   "source": [
    "tesla_data.reset_index(inplace=True)"
   ]
  },
  {
   "cell_type": "markdown",
   "id": "40481044-e8ac-4685-9fde-3c4d7a1e056c",
   "metadata": {},
   "source": [
    "### Save the DataFrame to a CSV file"
   ]
  },
  {
   "cell_type": "code",
   "execution_count": null,
   "id": "4c704a5a-1e33-4bf3-8902-4f50d11bf0c4",
   "metadata": {},
   "outputs": [],
   "source": [
    "tesla_data.to_csv('tesla_data.csv', index=False)"
   ]
  },
  {
   "cell_type": "markdown",
   "id": "02cacb7f-5b43-469e-865c-354680bbc853",
   "metadata": {},
   "source": [
    "### Display the first five rows of the DataFrame"
   ]
  },
  {
   "cell_type": "code",
   "execution_count": 31,
   "id": "308e8837-108d-4db0-8d1f-93b683f7f49f",
   "metadata": {},
   "outputs": [
    {
     "data": {
      "text/html": [
       "<div>\n",
       "<style scoped>\n",
       "    .dataframe tbody tr th:only-of-type {\n",
       "        vertical-align: middle;\n",
       "    }\n",
       "\n",
       "    .dataframe tbody tr th {\n",
       "        vertical-align: top;\n",
       "    }\n",
       "\n",
       "    .dataframe thead th {\n",
       "        text-align: right;\n",
       "    }\n",
       "</style>\n",
       "<table border=\"1\" class=\"dataframe\">\n",
       "  <thead>\n",
       "    <tr style=\"text-align: right;\">\n",
       "      <th></th>\n",
       "      <th>Open</th>\n",
       "      <th>High</th>\n",
       "      <th>Low</th>\n",
       "      <th>Close</th>\n",
       "      <th>Volume</th>\n",
       "      <th>Dividends</th>\n",
       "      <th>Stock Splits</th>\n",
       "    </tr>\n",
       "    <tr>\n",
       "      <th>Date</th>\n",
       "      <th></th>\n",
       "      <th></th>\n",
       "      <th></th>\n",
       "      <th></th>\n",
       "      <th></th>\n",
       "      <th></th>\n",
       "      <th></th>\n",
       "    </tr>\n",
       "  </thead>\n",
       "  <tbody>\n",
       "    <tr>\n",
       "      <th>2020-01-02 00:00:00-05:00</th>\n",
       "      <td>28.299999</td>\n",
       "      <td>28.713333</td>\n",
       "      <td>28.114000</td>\n",
       "      <td>28.684000</td>\n",
       "      <td>142981500</td>\n",
       "      <td>0.0</td>\n",
       "      <td>0.0</td>\n",
       "    </tr>\n",
       "    <tr>\n",
       "      <th>2020-01-03 00:00:00-05:00</th>\n",
       "      <td>29.366667</td>\n",
       "      <td>30.266666</td>\n",
       "      <td>29.128000</td>\n",
       "      <td>29.534000</td>\n",
       "      <td>266677500</td>\n",
       "      <td>0.0</td>\n",
       "      <td>0.0</td>\n",
       "    </tr>\n",
       "    <tr>\n",
       "      <th>2020-01-06 00:00:00-05:00</th>\n",
       "      <td>29.364668</td>\n",
       "      <td>30.104000</td>\n",
       "      <td>29.333332</td>\n",
       "      <td>30.102667</td>\n",
       "      <td>151995000</td>\n",
       "      <td>0.0</td>\n",
       "      <td>0.0</td>\n",
       "    </tr>\n",
       "    <tr>\n",
       "      <th>2020-01-07 00:00:00-05:00</th>\n",
       "      <td>30.760000</td>\n",
       "      <td>31.441999</td>\n",
       "      <td>30.224001</td>\n",
       "      <td>31.270666</td>\n",
       "      <td>268231500</td>\n",
       "      <td>0.0</td>\n",
       "      <td>0.0</td>\n",
       "    </tr>\n",
       "    <tr>\n",
       "      <th>2020-01-08 00:00:00-05:00</th>\n",
       "      <td>31.580000</td>\n",
       "      <td>33.232666</td>\n",
       "      <td>31.215334</td>\n",
       "      <td>32.809334</td>\n",
       "      <td>467164500</td>\n",
       "      <td>0.0</td>\n",
       "      <td>0.0</td>\n",
       "    </tr>\n",
       "  </tbody>\n",
       "</table>\n",
       "</div>"
      ],
      "text/plain": [
       "                                Open       High        Low      Close  \\\n",
       "Date                                                                    \n",
       "2020-01-02 00:00:00-05:00  28.299999  28.713333  28.114000  28.684000   \n",
       "2020-01-03 00:00:00-05:00  29.366667  30.266666  29.128000  29.534000   \n",
       "2020-01-06 00:00:00-05:00  29.364668  30.104000  29.333332  30.102667   \n",
       "2020-01-07 00:00:00-05:00  30.760000  31.441999  30.224001  31.270666   \n",
       "2020-01-08 00:00:00-05:00  31.580000  33.232666  31.215334  32.809334   \n",
       "\n",
       "                              Volume  Dividends  Stock Splits  \n",
       "Date                                                           \n",
       "2020-01-02 00:00:00-05:00  142981500        0.0           0.0  \n",
       "2020-01-03 00:00:00-05:00  266677500        0.0           0.0  \n",
       "2020-01-06 00:00:00-05:00  151995000        0.0           0.0  \n",
       "2020-01-07 00:00:00-05:00  268231500        0.0           0.0  \n",
       "2020-01-08 00:00:00-05:00  467164500        0.0           0.0  "
      ]
     },
     "execution_count": 31,
     "metadata": {},
     "output_type": "execute_result"
    }
   ],
   "source": [
    "tesla_data.head()"
   ]
  },
  {
   "cell_type": "markdown",
   "id": "25567b7f-5ac8-4c52-bd30-f38f0f3b6280",
   "metadata": {},
   "source": [
    "# **Question 2: Use Webscraping to Extract Tesla Revenue Data**"
   ]
  },
  {
   "cell_type": "markdown",
   "id": "46084ce9-9331-43af-bb16-e09f398fc2ce",
   "metadata": {},
   "source": [
    "#### Get Tesla's quarterly financials (includes Total Revenue)\n"
   ]
  },
  {
   "cell_type": "code",
   "execution_count": null,
   "id": "6ef5dda9-f76c-4e61-9222-065aa7edcaae",
   "metadata": {},
   "outputs": [],
   "source": [
    "!pip install html5lib\n",
    "import requests\n",
    "from bs4 import BeautifulSoup\n",
    "import pandas as pd"
   ]
  },
  {
   "cell_type": "code",
   "execution_count": 44,
   "id": "d69f37bc-ea09-4ba2-b8d4-c283de6c2ea0",
   "metadata": {},
   "outputs": [
    {
     "name": "stdout",
     "output_type": "stream",
     "text": [
      "Empty DataFrame\n",
      "Columns: [Date, Revenue]\n",
      "Index: []\n"
     ]
    }
   ],
   "source": [
    "url = \"https://www.macrotrends.net/stocks/charts/TSLA/tesla/revenue\"\n",
    "html_data = requests.get(url).text\n",
    "soup = BeautifulSoup(html_data, \"html.parser\")\n",
    "tesla_revenue = pd.DataFrame(columns=['Date', 'Revenue'])\n",
    "tables = soup.find_all(\"table\")\n",
    "for table in tables:\n",
    "    header = table.find('th')\n",
    "    if header and 'Tesla Quarterly Revenue' in header.text:\n",
    "        rows = table.find_all(\"tr\")\n",
    "        for row in rows:\n",
    "            cols = row.find_all(\"td\")\n",
    "            if len(cols) == 2:\n",
    "                date = cols[0].text.strip()\n",
    "                revenue = cols[1].text.strip().replace(\"$\", \"\").replace(\",\", \"\")\n",
    "                if revenue:  \n",
    "                    tesla_revenue = tesla_revenue.append({\"Date\": date, \"Revenue\": revenue}, ignore_index=True)\n",
    "\n",
    "tesla_revenue.dropna(inplace=True)\n",
    "tesla_revenue = tesla_revenue[tesla_revenue[\"Revenue\"] != \"\"]\n",
    "\n",
    "#Show last 5 rows not displaying becuase of java script\n",
    "print(tesla_revenue.tail())\n"
   ]
  },
  {
   "cell_type": "code",
   "execution_count": 82,
   "id": "e170fd4d-1195-44f4-8ca6-9ff2d370b7bb",
   "metadata": {},
   "outputs": [
    {
     "name": "stdout",
     "output_type": "stream",
     "text": [
      "         Date        Revenue\n",
      "0  2024-12-31  25707000000.0\n",
      "1  2024-09-30  25182000000.0\n",
      "2  2024-06-30  25500000000.0\n",
      "3  2024-03-31  21301000000.0\n",
      "4  2023-12-31  25167000000.0\n"
     ]
    }
   ],
   "source": [
    "#Results are below  for question 2\n",
    "import yfinance as yf\n",
    "import pandas as pd\n",
    "\n",
    "tesla = yf.Ticker(\"TSLA\")\n",
    "tesla_quarterly = tesla.quarterly_financials\n",
    "tesla_revenue = tesla_quarterly.loc[\"Total Revenue\"].T.reset_index()\n",
    "tesla_revenue.columns = [\"Date\", \"Revenue\"]\n",
    "tesla_revenue[\"Date\"] = tesla_revenue[\"Date\"].dt.strftime('%Y-%m-%d')\n",
    "tesla_revenue = tesla_revenue.dropna()\n",
    "print(tesla_revenue.tail(5))"
   ]
  },
  {
   "cell_type": "code",
   "execution_count": null,
   "id": "4c8aabad-519a-4f09-b6b6-2ab7542e64b4",
   "metadata": {},
   "outputs": [],
   "source": []
  },
  {
   "cell_type": "markdown",
   "id": "a31d3e33-d6f3-4375-a6db-42b13876db59",
   "metadata": {},
   "source": [
    "# **Question 3: Use yfinance to Extract Stock Data**"
   ]
  },
  {
   "cell_type": "code",
   "execution_count": null,
   "id": "b91ca164-519a-4ed7-a9e8-6e8db9042965",
   "metadata": {},
   "outputs": [],
   "source": [
    "import yfinance as yf\n",
    "import pandas as pd"
   ]
  },
  {
   "cell_type": "markdown",
   "id": "4525113b-da06-4d9f-aa73-d8e663a57c66",
   "metadata": {},
   "source": [
    "# Step 1: Download GameStop stock data using yfinance"
   ]
  },
  {
   "cell_type": "code",
   "execution_count": null,
   "id": "c2e199c9-09d0-4a6c-9a3c-77a0fb358dce",
   "metadata": {},
   "outputs": [],
   "source": [
    "gme_data = yf.download(\"GME\", start=\"2020-01-01\", end=\"2025-01-01\")"
   ]
  },
  {
   "cell_type": "markdown",
   "id": "52e55d1d-e014-46b0-a82e-aeea342e3231",
   "metadata": {},
   "source": [
    "## Step 2: Reset the index"
   ]
  },
  {
   "cell_type": "code",
   "execution_count": 54,
   "id": "76a00ef6-aca8-44a2-9e53-01049468b4f3",
   "metadata": {},
   "outputs": [],
   "source": [
    "gme_data.reset_index(inplace=True)"
   ]
  },
  {
   "cell_type": "markdown",
   "id": "d31fa773-4151-4fe0-9eb3-083fbfc03d3b",
   "metadata": {},
   "source": [
    "### Step 3: Display the first five rows"
   ]
  },
  {
   "cell_type": "code",
   "execution_count": 55,
   "id": "7140288f-222d-43a4-8538-f5311f7ffba3",
   "metadata": {},
   "outputs": [
    {
     "name": "stdout",
     "output_type": "stream",
     "text": [
      "Price        Date   Close    High     Low    Open    Volume\n",
      "Ticker                GME     GME     GME     GME       GME\n",
      "0      2020-01-02  1.5775  1.6175  1.5175  1.5350  17814400\n",
      "1      2020-01-03  1.4700  1.5625  1.4600  1.5525  14175600\n",
      "2      2020-01-06  1.4625  1.4775  1.4000  1.4500  13579200\n",
      "3      2020-01-07  1.3800  1.4575  1.3600  1.4425  20912000\n",
      "4      2020-01-08  1.4300  1.4625  1.3525  1.3725  22517600\n"
     ]
    }
   ],
   "source": [
    "print(gme_data.head())"
   ]
  },
  {
   "cell_type": "code",
   "execution_count": null,
   "id": "0e073099-8859-4c4e-82ec-02474e1cd5e2",
   "metadata": {},
   "outputs": [],
   "source": []
  },
  {
   "cell_type": "markdown",
   "id": "65eaf8ab-a47e-41d2-9f53-e2251bfc4247",
   "metadata": {},
   "source": [
    "# **Question 4: Use Webscraping to Extract GME Revenue Data**\n"
   ]
  },
  {
   "cell_type": "code",
   "execution_count": 56,
   "id": "a66fb632-ef2d-4a7a-883c-d07a001f4dd3",
   "metadata": {},
   "outputs": [
    {
     "name": "stdout",
     "output_type": "stream",
     "text": [
      "Empty DataFrame\n",
      "Columns: [Date, Revenue]\n",
      "Index: []\n"
     ]
    }
   ],
   "source": [
    "import requests\n",
    "from bs4 import BeautifulSoup\n",
    "import pandas as pd\n",
    "\n",
    "url = \"https://www.macrotrends.net/stocks/charts/GME/gamestop/revenue\"\n",
    "\n",
    "html_data = requests.get(url).text\n",
    "\n",
    "#Step 3: Parse with BeautifulSoup\n",
    "soup = BeautifulSoup(html_data, \"html.parser\")\n",
    "\n",
    "# Step 4: Create the empty DataFrame\n",
    "gme_revenue = pd.DataFrame(columns=[\"Date\", \"Revenue\"])\n",
    "\n",
    "# Step 5: Locate the correct table and extract data\n",
    "for table in soup.find_all(\"table\"):\n",
    "    if table.find(\"th\") and \"GameStop Quarterly Revenue\" in table.find(\"th\").text:\n",
    "        rows = table.find_all(\"tr\")\n",
    "        for row in rows:\n",
    "            cols = row.find_all(\"td\")\n",
    "            if cols:\n",
    "                date = cols[0].text.strip()\n",
    "                revenue = cols[1].text.strip().replace(\",\", \"\").replace(\"$\", \"\")\n",
    "                if revenue != \"\":\n",
    "                    gme_revenue = pd.concat(\n",
    "                        [gme_revenue, pd.DataFrame([{\"Date\": date, \"Revenue\": revenue}])],\n",
    "                        ignore_index=True\n",
    "                    )\n",
    "\n",
    "gme_revenue[\"Revenue\"] = pd.to_numeric(gme_revenue[\"Revenue\"], errors=\"coerce\")\n",
    "gme_revenue.dropna(inplace=True)\n",
    "gme_revenue.reset_index(drop=True, inplace=True)\n",
    "\n",
    "#Show last 5 rows not displaying becuase of java script\n",
    "print(gme_revenue.tail())\n"
   ]
  },
  {
   "cell_type": "code",
   "execution_count": 83,
   "id": "b41f150e-7217-40ca-a4ef-793d4073cf99",
   "metadata": {},
   "outputs": [
    {
     "name": "stdout",
     "output_type": "stream",
     "text": [
      "         Date       Revenue\n",
      "0  2025-01-31  1282600000.0\n",
      "1  2024-10-31   860300000.0\n",
      "2  2024-07-31   798300000.0\n",
      "4  2024-01-31  1793600000.0\n",
      "5  2023-10-31  1078300000.0\n"
     ]
    }
   ],
   "source": [
    "#Results are below  for question 4\n",
    "import yfinance as yf\n",
    "import pandas as pd\n",
    "\n",
    "gme = yf.Ticker(\"GME\")\n",
    "gme_quarterly = gme.quarterly_financials\n",
    "gme_revenue = gme_quarterly.loc[\"Total Revenue\"].T.reset_index()\n",
    "gme_revenue.columns = [\"Date\", \"Revenue\"]\n",
    "gme_revenue[\"Date\"] = gme_revenue[\"Date\"].dt.strftime('%Y-%m-%d')\n",
    "gme_revenue = gme_revenue.dropna()\n",
    "print(gme_revenue.tail(5))"
   ]
  },
  {
   "cell_type": "code",
   "execution_count": null,
   "id": "3e20fb44-6108-4916-9ffe-fe482e1322d6",
   "metadata": {},
   "outputs": [],
   "source": []
  },
  {
   "cell_type": "markdown",
   "id": "e4b7b438-01de-42aa-91a1-a8d4fcaf9184",
   "metadata": {},
   "source": [
    "# **Question 5: Plot Tesla Stock Graph**"
   ]
  },
  {
   "cell_type": "code",
   "execution_count": null,
   "id": "3c0c29cc-3365-43d4-90d5-8f5dfba3fd24",
   "metadata": {},
   "outputs": [],
   "source": [
    "!pip install matplotlib\n",
    "import yfinance as yf\n",
    "import pandas as pd\n",
    "import matplotlib.pyplot as plt"
   ]
  },
  {
   "cell_type": "markdown",
   "id": "61c14635-9b3b-4051-a9c6-7cac0692e931",
   "metadata": {},
   "source": [
    "### Step 1: Create a Ticker object for Tesla"
   ]
  },
  {
   "cell_type": "code",
   "execution_count": null,
   "id": "292be581-0f91-4347-9eb3-5f0e37e9c830",
   "metadata": {},
   "outputs": [],
   "source": [
    "tesla = yf.Ticker(\"TSLA\")"
   ]
  },
  {
   "cell_type": "markdown",
   "id": "b9f7d42b-53ef-475a-8b0d-0f8a41fe49a4",
   "metadata": {},
   "source": [
    "### Step 2: Get Tesla's quarterly financials"
   ]
  },
  {
   "cell_type": "code",
   "execution_count": null,
   "id": "43c53352-c973-4166-9873-a6964336fbfd",
   "metadata": {},
   "outputs": [],
   "source": [
    "tesla_quarterly = tesla.quarterly_financials"
   ]
  },
  {
   "cell_type": "markdown",
   "id": "a6ea2889-5c9b-4d53-8fee-2c5219884b5e",
   "metadata": {},
   "source": [
    "### Step 3: Extract Total Revenue and transpose"
   ]
  },
  {
   "cell_type": "code",
   "execution_count": null,
   "id": "2a463af8-f971-4a70-b595-099ecfe0595d",
   "metadata": {},
   "outputs": [],
   "source": [
    "tesla_revenue = tesla_quarterly.loc[\"Total Revenue\"].T.reset_index()"
   ]
  },
  {
   "cell_type": "markdown",
   "id": "02e88725-37d7-46bf-be37-0a18ad886685",
   "metadata": {},
   "source": [
    "### Step 4: Rename columns"
   ]
  },
  {
   "cell_type": "code",
   "execution_count": null,
   "id": "5d5bf1ad-7b58-49bd-b3f6-db09a5ae8188",
   "metadata": {},
   "outputs": [],
   "source": [
    "tesla_revenue.columns = [\"Date\", \"Revenue\"]"
   ]
  },
  {
   "cell_type": "markdown",
   "id": "73be028b-0aaa-42b5-a8a9-b6520b2cab29",
   "metadata": {},
   "source": [
    "### Step 5: Format Date\n"
   ]
  },
  {
   "cell_type": "code",
   "execution_count": null,
   "id": "6ec7954f-50cd-4340-988b-497b62170c44",
   "metadata": {},
   "outputs": [],
   "source": [
    "tesla_revenue[\"Date\"] = tesla_revenue[\"Date\"].dt.strftime('%Y-%m-%d')"
   ]
  },
  {
   "cell_type": "markdown",
   "id": "6f60786c-bcd3-458c-ae98-9e1e0ef7d077",
   "metadata": {},
   "source": [
    "### Step 6: Remove rows where Revenue is missing (NaN)"
   ]
  },
  {
   "cell_type": "code",
   "execution_count": null,
   "id": "ca173a73-6f72-45d7-8bf1-7c3800221124",
   "metadata": {},
   "outputs": [],
   "source": [
    "tesla_revenue = tesla_revenue.dropna()"
   ]
  },
  {
   "cell_type": "markdown",
   "id": "d2c3f682-20d6-48a7-bd9f-d575b098ed96",
   "metadata": {},
   "source": [
    "### Step 7: Display only the last 5 rows with no missing revenue"
   ]
  },
  {
   "cell_type": "code",
   "execution_count": 67,
   "id": "2ece08bf-3feb-4380-9e74-1109e442eef0",
   "metadata": {},
   "outputs": [
    {
     "name": "stdout",
     "output_type": "stream",
     "text": [
      "         Date        Revenue\n",
      "0  2024-12-31  25707000000.0\n",
      "1  2024-09-30  25182000000.0\n",
      "2  2024-06-30  25500000000.0\n",
      "3  2024-03-31  21301000000.0\n",
      "4  2023-12-31  25167000000.0\n"
     ]
    }
   ],
   "source": [
    "print(tesla_revenue.tail(5))"
   ]
  },
  {
   "cell_type": "markdown",
   "id": "0d1c98af-3f30-4f09-ab65-2cb494da4d13",
   "metadata": {},
   "source": [
    "### Step 8: Plot Tesla Stock Data\n"
   ]
  },
  {
   "cell_type": "code",
   "execution_count": null,
   "id": "5ade2320-5332-437c-8738-d2f07392865a",
   "metadata": {},
   "outputs": [],
   "source": [
    "def make_graph(ticker):\n",
    "    tesla_data = ticker.history(period=\"1y\")\n",
    "    \n",
    "    plt.figure(figsize=(10, 6))\n",
    "    plt.plot(tesla_data.index, tesla_data['Close'], label=\"Tesla Stock Price\")\n",
    "    \n",
    "    plt.title(\"Tesla Stock Price Over the Last Year\")\n",
    "    plt.xlabel(\"Date\")\n",
    "    plt.ylabel(\"Stock Price (USD)\")\n",
    "    plt.grid(True)\n",
    "    plt.legend()"
   ]
  },
  {
   "cell_type": "markdown",
   "id": "b14e2af1-80a3-40e8-aba2-48d61cd0cc05",
   "metadata": {},
   "source": [
    "### Show the graph"
   ]
  },
  {
   "cell_type": "code",
   "execution_count": 69,
   "id": "0a785b29-db56-46c3-b722-75d11b2e61d1",
   "metadata": {},
   "outputs": [
    {
     "data": {
      "image/png": "[encoded data removed]",
      "text/plain": [
       "<Figure size 1000x600 with 1 Axes>"
      ]
     },
     "metadata": {},
     "output_type": "display_data"
    }
   ],
   "source": [
    "plt.show()\n",
    "make_graph(tesla)"
   ]
  },
  {
   "cell_type": "code",
   "execution_count": null,
   "id": "f3afbbab-e23e-4351-b811-c559a1766557",
   "metadata": {},
   "outputs": [],
   "source": []
  },
  {
   "cell_type": "markdown",
   "id": "14b2b9af-acfa-42d1-b40d-a76f73d98344",
   "metadata": {},
   "source": [
    "# **Question 6: Plot GameStop Stock Graph**"
   ]
  },
  {
   "cell_type": "code",
   "execution_count": null,
   "id": "b3630826-b186-422b-9d86-810f6385d176",
   "metadata": {},
   "outputs": [],
   "source": [
    "import yfinance as yf\n",
    "import pandas as pd\n",
    "import matplotlib.pyplot as plt"
   ]
  },
  {
   "cell_type": "markdown",
   "id": "4db67f8a-5540-44c4-b03d-08152e24e1c0",
   "metadata": {},
   "source": [
    "#### Step 1: Create a Ticker object for GameStop"
   ]
  },
  {
   "cell_type": "code",
   "execution_count": null,
   "id": "ed0a582c-3d32-40d1-89dc-ce6c9f4b8aec",
   "metadata": {},
   "outputs": [],
   "source": [
    "gamestop = yf.Ticker(\"GME\")"
   ]
  },
  {
   "cell_type": "markdown",
   "id": "7e545ab2-0251-47c9-99ab-481b359d6c4f",
   "metadata": {},
   "source": [
    "### Step 2: Get GameStop's historical stock data (last 1 year as an example)"
   ]
  },
  {
   "cell_type": "code",
   "execution_count": null,
   "id": "2dd6d9bf-15ea-49ef-ab6d-855fcbd49d11",
   "metadata": {},
   "outputs": [],
   "source": [
    "gme_data = gamestop.history(period=\"1y\")"
   ]
  },
  {
   "cell_type": "markdown",
   "id": "8b70649c-1a28-49db-a4ba-743fd86f96bc",
   "metadata": {},
   "source": [
    "### Step 3: Plot GameStop Stock Data"
   ]
  },
  {
   "cell_type": "code",
   "execution_count": null,
   "id": "7a6ca9b8-2ef1-411b-aeaf-8a827e67aa6b",
   "metadata": {},
   "outputs": [],
   "source": [
    "def make_graph(ticker_data):\n",
    "    # Plot the GameStop stock data (Close price)\n",
    "    plt.figure(figsize=(10, 6))\n",
    "    plt.plot(ticker_data.index, ticker_data['Close'], label=\"GameStop Stock Price\", color='blue')\n",
    "    \n",
    "    plt.title(\"GameStop Stock Price Over the Last Year\")\n",
    "    plt.xlabel(\"Date\")\n",
    "    plt.ylabel(\"Stock Price (USD)\")\n",
    "    plt.grid(True)\n",
    "    plt.legend()"
   ]
  },
  {
   "cell_type": "markdown",
   "id": "1826e2f8-70b6-41cf-be3a-6764ee3dcc3b",
   "metadata": {},
   "source": [
    " ### Step 4: Show the graph\n"
   ]
  },
  {
   "cell_type": "code",
   "execution_count": 64,
   "id": "a6639caf-aa9c-44ec-9a69-c7b6149bdcb9",
   "metadata": {},
   "outputs": [
    {
     "data": {
      "image/png": "[encoded data removed]",
      "text/plain": [
       "<Figure size 1000x600 with 1 Axes>"
      ]
     },
     "metadata": {},
     "output_type": "display_data"
    }
   ],
   "source": [
    "plt.show()\n",
    "make_graph(gme_data)"
   ]
  },
  {
   "cell_type": "code",
   "execution_count": null,
   "id": "fdef8d30-b772-4383-aedc-6595b3d9b1a2",
   "metadata": {},
   "outputs": [],
   "source": []
  }
 ],
 "metadata": {
  "kernelspec": {
   "display_name": "Python 3 (ipykernel)",
   "language": "python",
   "name": "python3"
  },
  "language_info": {
   "codemirror_mode": {
    "name": "ipython",
    "version": 3
   },
   "file_extension": ".py",
   "mimetype": "text/x-python",
   "name": "python",
   "nbconvert_exporter": "python",
   "pygments_lexer": "ipython3",
   "version": "3.12.8"
  }
 },
 "nbformat": 4,
 "nbformat_minor": 5
}
